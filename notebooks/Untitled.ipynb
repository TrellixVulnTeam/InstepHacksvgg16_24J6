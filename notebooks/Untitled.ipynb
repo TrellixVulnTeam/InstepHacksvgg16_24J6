{
 "cells": [
  {
   "cell_type": "code",
   "execution_count": 1,
   "metadata": {},
   "outputs": [],
   "source": [
    "import os\n",
    "import math\n",
    "import numpy as np\n",
    "import tensorflow as tf\n",
    "import cv2\n",
    "\n",
    "slim = tf.contrib.slim\n",
    "from tensorflow.contrib.slim.python.slim import queues"
   ]
  },
  {
   "cell_type": "code",
   "execution_count": 2,
   "metadata": {},
   "outputs": [],
   "source": [
    "%matplotlib inline\n",
    "import matplotlib.pyplot as plt\n",
    "import matplotlib.image as mpimg\n",
    "import matplotlib.cm as mpcm"
   ]
  },
  {
   "cell_type": "code",
   "execution_count": 3,
   "metadata": {},
   "outputs": [],
   "source": [
    "import sys\n",
    "sys.path.append('../')"
   ]
  },
  {
   "cell_type": "code",
   "execution_count": 4,
   "metadata": {},
   "outputs": [],
   "source": [
    "from datasets import dataset_factory\n",
    "from nets import nets_factory\n",
    "from preprocessing import preprocessing_factory"
   ]
  },
  {
   "cell_type": "code",
   "execution_count": 5,
   "metadata": {},
   "outputs": [],
   "source": [
    "isess = tf.InteractiveSession()"
   ]
  },
  {
   "cell_type": "code",
   "execution_count": 6,
   "metadata": {},
   "outputs": [],
   "source": [
    "def colors_subselect(colors, num_classes=21):\n",
    "    dt = len(colors) // num_classes\n",
    "    sub_colors = []\n",
    "    for i in range(num_classes):\n",
    "        color = colors[i*dt]\n",
    "        if isinstance(color[0], float):\n",
    "            sub_colors.append([int(c * 255) for c in color])\n",
    "        else:\n",
    "            sub_colors.append([c for c in color])\n",
    "    return sub_colors\n",
    "\n",
    "def draw_lines(img, lines, color=[255, 0, 0], thickness=2):\n",
    "    \"\"\"Draw a collection of lines on an image.\n",
    "    \"\"\"\n",
    "    for line in lines:\n",
    "        for x1, y1, x2, y2 in line:\n",
    "            cv2.line(img, (x1, y1), (x2, y2), color, thickness)\n",
    "            \n",
    "def draw_rectangle(img, p1, p2, color=[255, 0, 0], thickness=2):\n",
    "    cv2.rectangle(img, p1[::-1], p2[::-1], color, thickness)\n",
    "    \n",
    "    \n",
    "def draw_bbox(img, bbox, shape, label, color=[255, 0, 0], thickness=2):\n",
    "    p1 = (int(bbox[0] * shape[0]), int(bbox[1] * shape[1]))\n",
    "    p2 = (int(bbox[2] * shape[0]), int(bbox[3] * shape[1]))\n",
    "    cv2.rectangle(img, p1[::-1], p2[::-1], color, thickness)\n",
    "    p1 = (p1[0]+15, p1[1])\n",
    "    cv2.putText(img, str(label), p1[::-1], cv2.FONT_HERSHEY_DUPLEX, 0.5, color, 1)\n",
    "\n",
    "\n",
    "def bboxes_draw_on_img(img, classes, scores, bboxes, colors, thickness=2):\n",
    "    shape = img.shape\n",
    "    for i in range(bboxes.shape[0]):\n",
    "        bbox = bboxes[i]\n",
    "        color = colors[classes[i]]\n",
    "        # Draw bounding box...\n",
    "        p1 = (int(bbox[0] * shape[0]), int(bbox[1] * shape[1]))\n",
    "        p2 = (int(bbox[2] * shape[0]), int(bbox[3] * shape[1]))\n",
    "        cv2.rectangle(img, p1[::-1], p2[::-1], color, thickness)\n",
    "        # Draw text...\n",
    "        s = '%s/%.3f' % (classes[i], scores[i])\n",
    "        p1 = (p1[0]-5, p1[1])\n",
    "        cv2.putText(img, s, p1[::-1], cv2.FONT_HERSHEY_DUPLEX, 0.4, color, 1)\n"
   ]
  },
  {
   "cell_type": "code",
   "execution_count": 7,
   "metadata": {},
   "outputs": [],
   "source": [
    "colors = colors_subselect(mpcm.plasma.colors, num_classes=21)\n",
    "colors_tableau = [(255, 255, 255), (31, 119, 180), (174, 199, 232), (255, 127, 14), (255, 187, 120),    \n",
    "                 (44, 160, 44), (152, 223, 138), (214, 39, 40), (255, 152, 150),    \n",
    "                 (148, 103, 189), (197, 176, 213), (140, 86, 75), (196, 156, 148),    \n",
    "                 (227, 119, 194), (247, 182, 210), (127, 127, 127), (199, 199, 199),    \n",
    "                 (188, 189, 34), (219, 219, 141), (23, 190, 207), (158, 218, 229)]"
   ]
  },
  {
   "cell_type": "code",
   "execution_count": 8,
   "metadata": {},
   "outputs": [],
   "source": [
    "from nets import ssd_vgg_300\n",
    "from nets import ssd_vgg_512\n",
    "from nets import ssd_common\n",
    "\n",
    "from preprocessing import ssd_vgg_preprocessing\n",
    "ckpt_filename = 'log/model.ckpt-7305'\n",
    "#ckpt_filename = '/media/paul/DataExt4/PascalVOC/training/ckpts/SSD_300x300_ft/ssd_300_vgg.ckpt'\n",
    "# ckpt_filename = '/media/paul/DataExt4/PascalVOC/training/ckpts/SSD_512x512_ft/ssd_512_vgg.ckpt'\n",
    "# ckpt_filename = '/home/paul/Development/Research/SSD-Tensorflow/logs/ssd_300_vgg_2/model.ckpt-148624'"
   ]
  },
  {
   "cell_type": "code",
   "execution_count": 9,
   "metadata": {},
   "outputs": [
    {
     "ename": "NameError",
     "evalue": "name 'image' is not defined",
     "output_type": "error",
     "traceback": [
      "\u001b[1;31m---------------------------------------------------------------------------\u001b[0m",
      "\u001b[1;31mNameError\u001b[0m                                 Traceback (most recent call last)",
      "\u001b[1;32m<ipython-input-9-3ce6ea7aa690>\u001b[0m in \u001b[0;36m<module>\u001b[1;34m()\u001b[0m\n\u001b[0;32m      6\u001b[0m \u001b[1;31m# Image pre-processimg\u001b[0m\u001b[1;33m\u001b[0m\u001b[1;33m\u001b[0m\u001b[0m\n\u001b[0;32m      7\u001b[0m \u001b[0mout_shape\u001b[0m \u001b[1;33m=\u001b[0m \u001b[0mssd\u001b[0m\u001b[1;33m.\u001b[0m\u001b[0mparams\u001b[0m\u001b[1;33m.\u001b[0m\u001b[0mimg_shape\u001b[0m\u001b[1;33m\u001b[0m\u001b[0m\n\u001b[1;32m----> 8\u001b[1;33m image_pre, labels_pre, bboxes_pre, bbox_img =     ssd_vgg_preprocessing.preprocess_for_eval(image, labels, bboxes, out_shape, \n\u001b[0m\u001b[0;32m      9\u001b[0m                                               resize=ssd_vgg_preprocessing.Resize.CENTRAL_CROP)\n\u001b[0;32m     10\u001b[0m \u001b[0mimage_4d\u001b[0m \u001b[1;33m=\u001b[0m \u001b[0mtf\u001b[0m\u001b[1;33m.\u001b[0m\u001b[0mexpand_dims\u001b[0m\u001b[1;33m(\u001b[0m\u001b[0mimage_pre\u001b[0m\u001b[1;33m,\u001b[0m \u001b[1;36m0\u001b[0m\u001b[1;33m)\u001b[0m\u001b[1;33m\u001b[0m\u001b[0m\n",
      "\u001b[1;31mNameError\u001b[0m: name 'image' is not defined"
     ]
    }
   ],
   "source": [
    "# SSD object.\n",
    "reuse = True if 'ssd' in locals() else None\n",
    "params = ssd_vgg_300.SSDNet.default_params\n",
    "ssd = ssd_vgg_300.SSDNet(params)\n",
    "\n",
    "# Image pre-processimg\n",
    "out_shape = ssd.params.img_shape\n",
    "image_pre, labels_pre, bboxes_pre, bbox_img = \\\n",
    "    ssd_vgg_preprocessing.preprocess_for_eval(image, labels, bboxes, out_shape, \n",
    "                                              resize=ssd_vgg_preprocessing.Resize.CENTRAL_CROP)\n",
    "image_4d = tf.expand_dims(image_pre, 0)\n",
    "\n",
    "# SSD construction.\n",
    "with slim.arg_scope(ssd.arg_scope(weight_decay=0.0005)):\n",
    "    predictions, localisations, logits, end_points = ssd.net(image_4d, is_training=False, reuse=reuse)\n",
    "    \n",
    "# SSD default anchor boxes.\n",
    "img_shape = out_shape\n",
    "layers_anchors = ssd.anchors(img_shape, dtype=np.float32)"
   ]
  },
  {
   "cell_type": "code",
   "execution_count": null,
   "metadata": {},
   "outputs": [],
   "source": [
    "# Input placeholder.\n",
    "net_shape = (300, 300)\n",
    "img_input = tf.placeholder(tf.uint8, shape=(None, None, 3))\n",
    "image_pre, labels_pre, bboxes_pre, bbox_img = ssd_vgg_preprocessing.preprocess_for_eval(\n",
    "    img_input, labels, None, net_shape, resize=ssd_vgg_preprocessing.Resize.PAD_AND_RESIZE)\n",
    "image_4d = tf.expand_dims(image_pre, 0)\n",
    "\n",
    "# Re-define the model\n",
    "reuse = True if 'ssd' in locals() else None\n",
    "with slim.arg_scope(ssd.arg_scope(weight_decay=0.0005)):\n",
    "    predictions, localisations, logits, end_points = ssd.net(image_4d, is_training=False, reuse=reuse)"
   ]
  },
  {
   "cell_type": "code",
   "execution_count": null,
   "metadata": {},
   "outputs": [],
   "source": []
  }
 ],
 "metadata": {
  "kernelspec": {
   "display_name": "Python 3",
   "language": "python",
   "name": "python3"
  },
  "language_info": {
   "codemirror_mode": {
    "name": "ipython",
    "version": 3
   },
   "file_extension": ".py",
   "mimetype": "text/x-python",
   "name": "python",
   "nbconvert_exporter": "python",
   "pygments_lexer": "ipython3",
   "version": "3.5.5"
  }
 },
 "nbformat": 4,
 "nbformat_minor": 2
}
